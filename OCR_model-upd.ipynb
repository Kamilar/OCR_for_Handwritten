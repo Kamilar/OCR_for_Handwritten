{
  "nbformat": 4,
  "nbformat_minor": 0,
  "metadata": {
    "colab": {
      "provenance": []
    },
    "kernelspec": {
      "name": "python3",
      "display_name": "Python 3"
    },
    "language_info": {
      "name": "python"
    },
    "gpuClass": "standard",
    "accelerator": "GPU"
  },
  "cells": [
    {
      "cell_type": "code",
      "execution_count": 1,
      "metadata": {
        "colab": {
          "base_uri": "https://localhost:8080/"
        },
        "id": "6xIA_bBRs_wr",
        "outputId": "e9c7157c-e70e-48e5-983f-e2bfaf62db96"
      },
      "outputs": [
        {
          "output_type": "stream",
          "name": "stdout",
          "text": [
            "Looking in indexes: https://pypi.org/simple, https://us-python.pkg.dev/colab-wheels/public/simple/\n",
            "Collecting Augmentor\n",
            "  Downloading Augmentor-0.2.12-py2.py3-none-any.whl (38 kB)\n",
            "Requirement already satisfied: editdistance in /usr/local/lib/python3.9/dist-packages (0.6.2)\n",
            "Requirement already satisfied: Pillow>=5.2.0 in /usr/local/lib/python3.9/dist-packages (from Augmentor) (8.4.0)\n",
            "Requirement already satisfied: tqdm>=4.9.0 in /usr/local/lib/python3.9/dist-packages (from Augmentor) (4.65.0)\n",
            "Requirement already satisfied: numpy>=1.11.0 in /usr/local/lib/python3.9/dist-packages (from Augmentor) (1.22.4)\n",
            "Installing collected packages: Augmentor\n",
            "Successfully installed Augmentor-0.2.12\n"
          ]
        }
      ],
      "source": [
        "!pip install Augmentor editdistance"
      ]
    },
    {
      "cell_type": "code",
      "source": [
        "import os\n",
        "import random\n",
        "import string\n",
        "import math\n",
        "from collections import Counter\n",
        "from time import time\n",
        "\n",
        "import Augmentor\n",
        "import numpy as np\n",
        "import pandas as pd\n",
        "import torch\n",
        "from torch import nn\n",
        "from torch.nn import Conv2d, MaxPool2d, BatchNorm2d, LeakyReLU\n",
        "from torchvision import transforms\n",
        "import matplotlib.pyplot as plt\n",
        "import cv2\n",
        "from PIL import Image\n",
        "import editdistance\n",
        "from tqdm import tqdm\n",
        "\n",
        "%load_ext autoreload\n",
        "%autoreload 2"
      ],
      "metadata": {
        "id": "3TPwjxM2tH67"
      },
      "execution_count": 2,
      "outputs": []
    },
    {
      "cell_type": "code",
      "source": [
        "# Data!\n",
        "\n",
        "#!unzip -n /content/drive/MyDrive/cyrillic_repro.zip"
      ],
      "metadata": {
        "id": "ZbNDLJO58ZkH"
      },
      "execution_count": 6,
      "outputs": []
    },
    {
      "cell_type": "code",
      "source": [
        "from google.colab import drive\n",
        "drive.mount('/content/drive/')"
      ],
      "metadata": {
        "colab": {
          "base_uri": "https://localhost:8080/"
        },
        "id": "YTt5dHwtYbGI",
        "outputId": "6de8b406-e836-47a4-8e28-e26fecf2ecc3"
      },
      "execution_count": 3,
      "outputs": [
        {
          "output_type": "stream",
          "name": "stdout",
          "text": [
            "Mounted at /content/drive/\n"
          ]
        }
      ]
    },
    {
      "cell_type": "code",
      "source": [],
      "metadata": {
        "id": "aFNt-P2U7rT_"
      },
      "execution_count": null,
      "outputs": []
    },
    {
      "cell_type": "code",
      "source": [
        "!unzip -n /content/drive/MyDrive/archive.zip"
      ],
      "metadata": {
        "id": "hmaXfrxdME_g",
        "colab": {
          "base_uri": "https://localhost:8080/"
        },
        "outputId": "aa11118d-6a12-491e-a641-44aed764f4ab"
      },
      "execution_count": 6,
      "outputs": [
        {
          "output_type": "stream",
          "name": "stdout",
          "text": [
            "Archive:  /content/drive/MyDrive/archive.zip\n"
          ]
        }
      ]
    },
    {
      "cell_type": "code",
      "source": [
        "DIR = './' # work directory\n",
        "PATH_TEST_DIR = '/content/test/'\n",
        "PATH_TEST_LABELS =  '/content/test.tsv'\n",
        "PATH_TRAIN_DIR =  '/content/train/'\n",
        "PATH_TRAIN_LABELS =  '/content/train.tsv'\n",
        "PREDICT_PATH = \"/content/test/\"\n",
        "CHECKPOINT_PATH = DIR\n",
        "WEIGHTS_PATH =  \"/content/checkpoint_71_real-part4.pt\"  #  ! WEIGHTS\n",
        "#\"../input/simple-and-efficient-transformer-ocr-weights/ocr_transformer_4h2l_simple_conv_64x256.pt\"\n",
        "PATH_TEST_RESULTS = DIR+'/test_result.tsv'\n",
        "TRAIN_LOG = DIR+'train_log.tsv'"
      ],
      "metadata": {
        "id": "01n29hUgtH0H"
      },
      "execution_count": 7,
      "outputs": []
    },
    {
      "cell_type": "code",
      "source": [
        "#DIR = './' # work directory\n",
        "#PATH_TEST_DIR = '/content/cyrillic_repro/test/'\n",
        "#PATH_TEST_LABELS =  '/content/cyrillic_repro/test.csv'\n",
        "#PATH_TRAIN_DIR =  '/content/cyrillic_repro/train/'\n",
        "#PATH_TRAIN_LABELS =  '/content/cyrillic_repro/train.csv'\n",
        "#PREDICT_PATH = \"/content/test/\"\n",
        "#CHECKPOINT_PATH = DIR\n",
        "#WEIGHTS_PATH =  \"/content/checkpoint_sint2-part2.pt\"\n",
        "#\"../input/simple-and-efficient-transformer-ocr-weights/ocr_transformer_4h2l_simple_conv_64x256.pt\"\n",
        "#PATH_TEST_RESULTS = DIR+'/test_result.tsv'\n",
        "#TRAIN_LOG = DIR+'train_log.tsv'"
      ],
      "metadata": {
        "id": "rRYcNAXx_Q1l"
      },
      "execution_count": null,
      "outputs": []
    },
    {
      "cell_type": "code",
      "source": [
        "### MODEL ### \n",
        "MODEL = 'model2'\n",
        "HIDDEN = 512\n",
        "ENC_LAYERS = 2\n",
        "DEC_LAYERS = 2\n",
        "N_HEADS = 4\n",
        "LENGTH = 42\n",
        "ALPHABET = ['PAD', 'SOS', ' ', '!', '\"', '%', '(', ')', ',', '-', '.', '/',\n",
        "            '0', '1', '2', '3', '4', '5', '6', '7', '8', '9', ':', ';', '?',\n",
        "            '[', ']', '«', '»', 'А', 'Б', 'В', 'Г', 'Д', 'Е', 'Ж', 'З', 'И',\n",
        "            'Й', 'К', 'Л', 'М', 'Н', 'О', 'П', 'Р', 'С', 'Т', 'У', 'Ф', 'Х',\n",
        "            'Ц', 'Ч', 'Ш', 'Щ', 'Э', 'Ю', 'Я', 'а', 'б', 'в', 'г', 'д', 'е',\n",
        "            'ж', 'з', 'и', 'й', 'к', 'л', 'м', 'н', 'о', 'п', 'р', 'с', 'т',\n",
        "            'у', 'ф', 'х', 'ц', 'ч', 'ш', 'щ', 'ъ', 'ы', 'ь', 'э', 'ю', 'я',\n",
        "            'ё', 'EOS']\n",
        "            \n",
        "### TRAINING ###\n",
        "BATCH_SIZE = 16\n",
        "DROPOUT = 0.2\n",
        "N_EPOCHS = 128\n",
        "CHECKPOINT_FREQ = 5 # save checkpoint every 10 epochs\n",
        "DEVICE = 'cuda:0' # or torch.device('cuda' if torch.cuda.is_available() else 'cpu')\n",
        "RANDOM_SEED = 42\n",
        "SCHUDULER_ON = True # \"ReduceLROnPlateau\"\n",
        "PATIENCE = 5 # for ReduceLROnPlateau\n",
        "OPTIMIZER_NAME = 'Adam' # or \"SGD\"\n",
        "LR = 2e-6\n",
        "\n",
        "### TESTING ###\n",
        "CASE = False # is case taken into account or not while evaluating\n",
        "PUNCT = False # are punctuation marks taken into account\n",
        "\n",
        "### INPUT IMAGE PARAMETERS ###\n",
        "WIDTH = 256\n",
        "HEIGHT = 64\n",
        "CHANNELS = 1 # 3 channels if model1"
      ],
      "metadata": {
        "id": "3wuZcj3BtHwe"
      },
      "execution_count": 8,
      "outputs": []
    },
    {
      "cell_type": "code",
      "source": [
        "class PositionalEncoding(torch.nn.Module):\n",
        "    def __init__(self, d_model, dropout=0.1, max_len=5000):\n",
        "        super(PositionalEncoding, self).__init__()\n",
        "        self.dropout = torch.nn.Dropout(p=dropout)\n",
        "        self.scale = torch.nn.Parameter(torch.ones(1))\n",
        "\n",
        "        pe = torch.zeros(max_len, d_model)\n",
        "        position = torch.arange(0, max_len, dtype=torch.float).unsqueeze(1)\n",
        "        div_term = torch.exp(torch.arange(\n",
        "            0, d_model, 2).float() * (-math.log(10000.0) / d_model))\n",
        "        pe[:, 0::2] = torch.sin(position * div_term)\n",
        "        pe[:, 1::2] = torch.cos(position * div_term)\n",
        "        pe = pe.unsqueeze(0).transpose(0, 1)\n",
        "        self.register_buffer('pe', pe)\n",
        "\n",
        "    def forward(self, x):\n",
        "        x = x + self.scale * self.pe[:x.size(0), :]\n",
        "        return self.dropout(x) \n",
        "\n",
        "    \n",
        "# convert images and labels into defined data structures\n",
        "def process_data(image_dir, labels_dir, ignore=[]):\n",
        "    \"\"\"\n",
        "    params\n",
        "    ---\n",
        "    image_dir : str\n",
        "      path to directory with images\n",
        "    labels_dir : str\n",
        "      path to tsv file with labels\n",
        "    returns\n",
        "    ---\n",
        "    img2label : dict\n",
        "      keys are names of images and values are correspondent labels\n",
        "    chars : list\n",
        "      all unique chars used in data\n",
        "    all_labels : list\n",
        "    \"\"\"\n",
        "    chars = []\n",
        "    img2label = dict()\n",
        "\n",
        "    #raw = open(labels_dir, 'r', encoding='utf-8').read()\n",
        "    #temp = raw.split('\\n')\n",
        "    #for t in temp:\n",
        "    import os\n",
        "    df = pd.read_csv(labels_dir\n",
        "                     , sep='\\t', names=['file', 'text'])\n",
        "    #df.loc[~df.text.isna(), 'text'] = df.loc[~df.text.isna(), 'text'].apply(lambda x: x.replace(\" \", \"\"))\n",
        "\n",
        "    for z in zip(list(df.file.values),\n",
        "             list(df.text.values)):\n",
        "        try:\n",
        "            #x = t.split(',')\n",
        "            #if len(x) > 2:\n",
        "            #    x = x[1:]\n",
        "            x = list(z)\n",
        "            if type(x[1]) == float:\n",
        "                continue\n",
        "            if not os.path.exists(image_dir + x[0]):\n",
        "                continue\n",
        "            flag = False\n",
        "            for item in ignore:\n",
        "                if item in x[1]:\n",
        "                    flag = True\n",
        "            if flag == False:\n",
        "                img2label[image_dir + x[0]] = x[1]\n",
        "                for char in x[1]:\n",
        "                    if char not in chars:\n",
        "                        chars.append(char)\n",
        "        except:\n",
        "            print('ValueError:', x)\n",
        "            pass\n",
        "\n",
        "    all_labels = sorted(list(set(list(img2label.values()))))\n",
        "    chars.sort()\n",
        "    chars = ['PAD', 'SOS'] + chars + ['EOS']\n",
        "\n",
        "    return img2label, chars, all_labels\n",
        "\n",
        "\n",
        "# TRANSLATE INDICIES TO TEXT\n",
        "def indicies_to_text(indexes, idx2char):\n",
        "    text = \"\".join([idx2char[i] for i in indexes])\n",
        "    text = text.replace('EOS', '').replace('PAD', '').replace('SOS', '')\n",
        "    return text"
      ],
      "metadata": {
        "id": "xjDe8Yi6uwWd"
      },
      "execution_count": 11,
      "outputs": []
    },
    {
      "cell_type": "code",
      "source": [
        "# COMPUTE CHARACTER ERROR RATE\n",
        "def char_error_rate(p_seq1, p_seq2):\n",
        "    \"\"\"\n",
        "    params\n",
        "    ---\n",
        "    p_seq1 : str\n",
        "    p_seq2 : str\n",
        "    returns\n",
        "    ---\n",
        "    cer : float\n",
        "    \"\"\"\n",
        "    p_vocab = set(p_seq1 + p_seq2)\n",
        "    p2c = dict(zip(p_vocab, range(len(p_vocab))))\n",
        "    c_seq1 = [chr(p2c[p]) for p in p_seq1]\n",
        "    c_seq2 = [chr(p2c[p]) for p in p_seq2]\n",
        "    return editdistance.eval(''.join(c_seq1),\n",
        "                             ''.join(c_seq2)) / max(len(c_seq1), len(c_seq2))\n",
        "\n",
        "\n",
        "# RESIZE AND NORMALIZE IMAGE\n",
        "def process_image(img):\n",
        "    \"\"\"\n",
        "    params:\n",
        "    ---\n",
        "    img : np.array\n",
        "    returns\n",
        "    ---\n",
        "    img : np.array\n",
        "    \"\"\"\n",
        "    w, h, _ = img.shape\n",
        "    new_w = HEIGHT\n",
        "    new_h = int(h * (new_w / w))\n",
        "    img = cv2.resize(img, (new_h, new_w))\n",
        "    w, h, _ = img.shape\n",
        "\n",
        "    img = img.astype('float32')\n",
        "\n",
        "    new_h = WIDTH\n",
        "    if h < new_h:\n",
        "        add_zeros = np.full((w, new_h - h, 3), 255)\n",
        "        img = np.concatenate((img, add_zeros), axis=1)\n",
        "\n",
        "    if h > new_h:\n",
        "        img = cv2.resize(img, (new_h, new_w))\n",
        "\n",
        "    return img\n",
        "\n",
        "\n",
        "# GENERATE IMAGES FROM FOLDER\n",
        "def generate_data(img_paths):\n",
        "    \"\"\"\n",
        "    params\n",
        "    ---\n",
        "    names : list of str\n",
        "        paths to images\n",
        "    returns\n",
        "    ---\n",
        "    data_images : list of np.array\n",
        "        images in np.array format\n",
        "    \"\"\"\n",
        "    data_images = []\n",
        "    for path in tqdm(img_paths):\n",
        "        img = np.asarray(Image.open(path).convert('RGB'))\n",
        "        try:\n",
        "            img = process_image(img)\n",
        "            data_images.append(img.astype('uint8'))\n",
        "        except:\n",
        "            print(path)\n",
        "            img = process_image(img)\n",
        "    return data_images\n",
        "\n",
        "\n",
        "def count_parameters(model):\n",
        "    return sum(p.numel() for p in model.parameters() if p.requires_grad)"
      ],
      "metadata": {
        "id": "3AQFvG_8uwTm"
      },
      "execution_count": 12,
      "outputs": []
    },
    {
      "cell_type": "code",
      "source": [
        "def evaluate(model, criterion, loader, case=True, punct=True):\n",
        "    \"\"\"\n",
        "    params\n",
        "    ---\n",
        "    model : nn.Module\n",
        "    criterion : nn.Object\n",
        "    loader : torch.utils.data.DataLoader\n",
        "\n",
        "    returns\n",
        "    ---\n",
        "    epoch_loss / len(loader) : float\n",
        "        overall loss\n",
        "    \"\"\"\n",
        "    model.eval()\n",
        "    metrics = {'loss': 0, 'wer': 0, 'cer': 0}\n",
        "    result = {'true': [], 'predicted': [], 'wer': []}\n",
        "    with torch.no_grad():\n",
        "        for (src, trg) in loader:\n",
        "            src, trg = src.to(DEVICE), trg.to(DEVICE)\n",
        "            logits = model(src, trg[:-1, :])\n",
        "            loss = criterion(logits.view(-1, logits.shape[-1]), torch.reshape(trg[1:, :], (-1,)))\n",
        "            out_indexes = model.predict(src)\n",
        "            \n",
        "            true_phrases = [indicies_to_text(trg.T[i][1:], ALPHABET) for i in range(BATCH_SIZE)]\n",
        "            pred_phrases = [indicies_to_text(out_indexes[i], ALPHABET) for i in range(BATCH_SIZE)]\n",
        "            \n",
        "            if not case:\n",
        "                true_phrases = [phrase.lower() for phrase in true_phrases]\n",
        "                pred_phrases = [phrase.lower() for phrase in pred_phrases]\n",
        "            if not punct:\n",
        "                true_phrases = [phrase.translate(str.maketrans('', '', string.punctuation))\\\n",
        "                                for phrase in true_phrases]\n",
        "                pred_phrases = [phrase.translate(str.maketrans('', '', string.punctuation))\\\n",
        "                                for phrase in pred_phrases]\n",
        "            \n",
        "            metrics['loss'] += loss.item()\n",
        "            metrics['cer'] += sum([char_error_rate(true_phrases[i], pred_phrases[i]) \\\n",
        "                        for i in range(BATCH_SIZE)])/BATCH_SIZE\n",
        "            metrics['wer'] += sum([int(true_phrases[i] != pred_phrases[i]) \\\n",
        "                        for i in range(BATCH_SIZE)])/BATCH_SIZE\n",
        "\n",
        "            for i in range(len(true_phrases)):\n",
        "              result['true'].append(true_phrases[i])\n",
        "              result['predicted'].append(pred_phrases[i])\n",
        "              result['wer'].append(char_error_rate(true_phrases[i], pred_phrases[i]))\n",
        "\n",
        "    for key in metrics.keys():\n",
        "      metrics[key] /= len(loader)\n",
        "\n",
        "    return metrics, result\n",
        "\n",
        "\n",
        "# MAKE PREDICTION\n",
        "def prediction(model, test_dir, char2idx, idx2char):\n",
        "    \"\"\"\n",
        "    params\n",
        "    ---\n",
        "    model : nn.Module\n",
        "    test_dir : str\n",
        "        path to directory with images\n",
        "    char2idx : dict\n",
        "        map from chars to indicies\n",
        "    id2char : dict\n",
        "        map from indicies to chars\n",
        "\n",
        "    returns\n",
        "    ---\n",
        "    preds : dict\n",
        "        key : name of image in directory\n",
        "        value : dict with keys ['p_value', 'predicted_label']\n",
        "    \"\"\"\n",
        "    preds = {}\n",
        "    os.makedirs('/output', exist_ok=True)\n",
        "    model.eval()\n",
        "\n",
        "    with torch.no_grad():\n",
        "        for filename in os.listdir(test_dir):\n",
        "            img = Image.open(test_dir + filename).convert('RGB')\n",
        "\n",
        "            img = process_image(np.asarray(img)).astype('uint8')\n",
        "            img = img / img.max()\n",
        "            img = np.transpose(img, (2, 0, 1))\n",
        "\n",
        "            src = torch.FloatTensor(img).unsqueeze(0).to(DEVICE)\n",
        "            if CHANNELS == 1:\n",
        "              src = transforms.Grayscale(CHANNELS)(src)\n",
        "            out_indexes = model.predict(src)\n",
        "            pred = indicies_to_text(out_indexes[0], idx2char)\n",
        "            preds[filename] = pred\n",
        "\n",
        "    return preds\n",
        "\n",
        "\n",
        "class ToTensor(object):\n",
        "    def __init__(self, X_type=None, Y_type=None):\n",
        "        self.X_type = X_type\n",
        "\n",
        "    def __call__(self, X):\n",
        "        X = X.transpose((2, 0, 1))\n",
        "        X = torch.from_numpy(X)\n",
        "        if self.X_type is not None:\n",
        "            X = X.type(self.X_type)\n",
        "        return X"
      ],
      "metadata": {
        "id": "BCDXIQNKu9iu"
      },
      "execution_count": 13,
      "outputs": []
    },
    {
      "cell_type": "code",
      "source": [
        "def log_config(model):\n",
        "    print('transformer layers: {}'.format(model.enc_layers))\n",
        "    print('transformer heads: {}'.format(model.transformer.nhead))\n",
        "    print('hidden dim: {}'.format(model.decoder.embedding_dim))\n",
        "    print('num classes: {}'.format(model.decoder.num_embeddings))\n",
        "    print('backbone: {}'.format(model.backbone_name))\n",
        "    print('dropout: {}'.format(model.pos_encoder.dropout.p))\n",
        "    print(f'{count_parameters(model):,} trainable parameters')\n",
        "\n",
        "\n",
        "def log_metrics(metrics, path_to_logs=None):\n",
        "    if path_to_logs != None:\n",
        "      f = open(path_to_logs, 'a')\n",
        "    if metrics['epoch'] == 1:\n",
        "      if path_to_logs != None:\n",
        "        f.write('Epoch\\tTrain_loss\\tValid_loss\\tCER\\tWER\\tTime\\n')\n",
        "      print('Epoch   Train_loss   Valid_loss   CER   WER    Time    LR')\n",
        "      print('-----   -----------  ----------   ---   ---    ----    ---')\n",
        "    print('{:02d}       {:.2f}         {:.2f}       {:.2f}   {:.2f}   {:.2f}   {:.7f}'.format(\\\n",
        "        metrics['epoch'], metrics['train_loss'], metrics['loss'], metrics['cer'], \\\n",
        "        metrics['wer'], metrics['time'], metrics['lr']))\n",
        "    if path_to_logs != None:\n",
        "      f.write(str(metrics['epoch'])+'\\t'+str(metrics['train_loss'])+'\\t'+str(metrics['loss'])+'\\t'+str(metrics['cer'])+'\\t'+str(metrics['wer'])+'\\t'+str(metrics['time'])+'\\n')\n",
        "      f.close()\n",
        "        \n",
        "\n",
        "# plot images\n",
        "def show_img_grid(images, labels, N):\n",
        "    n = int(N**(0.5))\n",
        "    k = 0\n",
        "    f, axarr = plt.subplots(n,n,figsize=(10,10))\n",
        "    for i in range(n):\n",
        "        for j in range(n):\n",
        "            axarr[i,j].set_title(labels[k])\n",
        "            axarr[i,j].imshow(images[k])\n",
        "            k += 1"
      ],
      "metadata": {
        "id": "WUGGvFePu9fl"
      },
      "execution_count": 14,
      "outputs": []
    },
    {
      "cell_type": "code",
      "source": [
        "# text to array of indicies\n",
        "def text_to_labels(s, char2idx):\n",
        "    return [char2idx['SOS']] + [char2idx[i] for i in s if i in char2idx.keys()] + [char2idx['EOS']]\n",
        "\n",
        "# store list of images' names (in directory) and does some operations with images\n",
        "class TextLoader(torch.utils.data.Dataset):\n",
        "    def __init__(self, images_name, labels, transforms, char2idx, idx2char):\n",
        "        \"\"\"\n",
        "        params\n",
        "        ---\n",
        "        images_name : list\n",
        "            list of names of images (paths to images)\n",
        "        labels : list\n",
        "            list of labels to correspondent images from images_name list\n",
        "        char2idx : dict\n",
        "        idx2char : dict\n",
        "        \"\"\"\n",
        "        self.images_name = images_name\n",
        "        self.labels = labels\n",
        "        self.char2idx = char2idx\n",
        "        self.idx2char = idx2char\n",
        "        self.transform = transforms\n",
        "\n",
        "    def _transform(self, X):\n",
        "        j = np.random.randint(0, 3, 1)[0]\n",
        "        if j == 0:\n",
        "            return self.transform(X)\n",
        "        if j == 1:\n",
        "            return tt(ld(vignet(X)))\n",
        "        if j == 2:\n",
        "            return tt(ld(un(X)))\n",
        "            \n",
        "\n",
        "    # shows some stats about dataset\n",
        "    def get_info(self):\n",
        "        N = len(self.labels)\n",
        "        max_len = -1\n",
        "        for label in self.labels:\n",
        "            if len(label) > max_len:\n",
        "                max_len = len(label)\n",
        "        counter = Counter(''.join(self.labels))\n",
        "        counter = dict(sorted(counter.items(), key=lambda item: item[1]))\n",
        "        print(\n",
        "            'Size of dataset: {}\\nMax length of expression: {}\\nThe most common char: {}\\nThe least common char: {}'.format( \\\n",
        "                N, max_len, list(counter.items())[-1], list(counter.items())[0]))\n",
        "\n",
        "    def __getitem__(self, index):\n",
        "        img = self.images_name[index]\n",
        "        img = self.transform(img)\n",
        "        img = img / img.max()\n",
        "        img = img ** (random.random() * 0.7 + 0.6)\n",
        "\n",
        "        label = text_to_labels(self.labels[index], self.char2idx)\n",
        "        return (torch.FloatTensor(img), torch.LongTensor(label))\n",
        "\n",
        "    def __len__(self):\n",
        "        return len(self.labels)\n",
        "\n",
        "\n",
        "# MAKE TEXT TO BE THE SAME LENGTH\n",
        "class TextCollate():\n",
        "    def __call__(self, batch):\n",
        "        x_padded = []\n",
        "        y_padded = torch.LongTensor(LENGTH, len(batch))\n",
        "        y_padded.zero_()\n",
        "\n",
        "        for i in range(len(batch)):\n",
        "            x_padded.append(batch[i][0].unsqueeze(0))\n",
        "            y = batch[i][1]\n",
        "            y_padded[:y.size(0), i] = y\n",
        "\n",
        "        x_padded = torch.cat(x_padded)\n",
        "        return x_padded, y_padded\n",
        "    \n",
        "\n",
        "p = Augmentor.Pipeline()\n",
        "p.shear(max_shear_left=2, max_shear_right=2, probability=0.7)\n",
        "p.random_distortion(probability=1.0, grid_width=3, grid_height=3, magnitude=11)\n",
        "\n",
        "TRAIN_TRANSFORMS = transforms.Compose([\n",
        "            transforms.ToPILImage(),\n",
        "            transforms.Grayscale(CHANNELS),\n",
        "            p.torch_transform(),  # random distortion and shear\n",
        "            transforms.ColorJitter(contrast=(0.5,1),saturation=(0.5,1)),\n",
        "            transforms.RandomRotation(degrees=(-9, 9)),\n",
        "            transforms.RandomAffine(10, None, [0.6 ,1] ,3 ,fill=255),\n",
        "            #transforms.transforms.GaussianBlur(3, sigma=(0.1, 1.9)),\n",
        "            transforms.ToTensor()\n",
        "        ])\n",
        "\n",
        "TEST_TRANSFORMS = transforms.Compose([\n",
        "            transforms.ToPILImage(),\n",
        "            transforms.Grayscale(CHANNELS),\n",
        "            transforms.ToTensor()\n",
        "        ])"
      ],
      "metadata": {
        "id": "mlEo4X3Gu9cz"
      },
      "execution_count": 15,
      "outputs": []
    },
    {
      "cell_type": "code",
      "source": [
        "class TransformerModel(nn.Module):\n",
        "    def __init__(self, outtoken, hidden, enc_layers=1, dec_layers=1, nhead=1, dropout=0.1):\n",
        "        super(TransformerModel, self).__init__()\n",
        "\n",
        "        self.enc_layers = enc_layers\n",
        "        self.dec_layers = dec_layers\n",
        "        self.backbone_name = 'conv(64)->conv(64)->conv(128)->conv(256)->conv(256)->conv(512)->conv(512)'\n",
        "\n",
        "        self.conv0 = Conv2d(1, 64, kernel_size=(3, 3), stride=(1, 1), padding=(1, 1))\n",
        "        self.conv1 = Conv2d(64, 128, kernel_size=(3, 3), stride=(1, 1), padding=(1, 1))\n",
        "        self.conv2 = Conv2d(128, 256, kernel_size=(3, 3), stride=(2, 1), padding=(1, 1))\n",
        "        self.conv3 = Conv2d(256, 256, kernel_size=(3, 3), stride=(1, 1), padding=(1, 1))\n",
        "        self.conv4 = Conv2d(256, 512, kernel_size=(3, 3), stride=(2, 1), padding=(1, 1))\n",
        "        self.conv5 = Conv2d(512, 512, kernel_size=(3, 3), stride=(1, 1), padding=(1, 1))\n",
        "        self.conv6 = Conv2d(512, 512, kernel_size=(2, 1), stride=(1, 1))\n",
        "        \n",
        "        self.pool1 = MaxPool2d(kernel_size=2, stride=2, padding=0, dilation=1, ceil_mode=False)\n",
        "        self.pool3 = MaxPool2d(kernel_size=2, stride=2, padding=0, dilation=1, ceil_mode=False)\n",
        "        self.pool5 = MaxPool2d(kernel_size=(2, 2), stride=(2, 1), padding=(0, 1), dilation=1, ceil_mode=False)\n",
        "\n",
        "        self.bn0 = BatchNorm2d(64, eps=1e-05, momentum=0.1, affine=True, track_running_stats=True)\n",
        "        self.bn1 = BatchNorm2d(128, eps=1e-05, momentum=0.1, affine=True, track_running_stats=True)\n",
        "        self.bn2 = BatchNorm2d(256, eps=1e-05, momentum=0.1, affine=True, track_running_stats=True)\n",
        "        self.bn3 = BatchNorm2d(256, eps=1e-05, momentum=0.1, affine=True, track_running_stats=True)\n",
        "        self.bn4 = BatchNorm2d(512, eps=1e-05, momentum=0.1, affine=True, track_running_stats=True)\n",
        "        self.bn5 = BatchNorm2d(512, eps=1e-05, momentum=0.1, affine=True, track_running_stats=True)\n",
        "        self.bn6 = BatchNorm2d(512, eps=1e-05, momentum=0.1, affine=True, track_running_stats=True)\n",
        "\n",
        "        self.activ = LeakyReLU()\n",
        "\n",
        "        self.pos_encoder = PositionalEncoding(hidden, dropout)\n",
        "        self.decoder = nn.Embedding(outtoken, hidden)\n",
        "        self.pos_decoder = PositionalEncoding(hidden, dropout)\n",
        "        self.transformer = nn.Transformer(d_model=hidden, nhead=nhead, num_encoder_layers=enc_layers,\n",
        "                                          num_decoder_layers=dec_layers, dim_feedforward=hidden * 4, dropout=dropout)\n",
        "\n",
        "        self.fc_out = nn.Linear(hidden, outtoken)\n",
        "        self.src_mask = None\n",
        "        self.trg_mask = None\n",
        "        self.memory_mask = None\n",
        "        \n",
        "        log_config(self)\n",
        "\n",
        "    def generate_square_subsequent_mask(self, sz):\n",
        "        mask = torch.triu(torch.ones(sz, sz, device=DEVICE), 1)\n",
        "        mask = mask.masked_fill(mask == 1, float('-inf'))\n",
        "        return mask\n",
        "\n",
        "    def make_len_mask(self, inp):\n",
        "        return (inp == 0).transpose(0, 1)\n",
        "    \n",
        "    def _get_features(self, src):\n",
        "        '''\n",
        "        params\n",
        "        ---\n",
        "        src : Tensor [64, 3, 64, 256] : [B,C,H,W]\n",
        "            B - batch, C - channel, H - height, W - width\n",
        "        returns\n",
        "        ---\n",
        "        x : Tensor : [W,B,CH]\n",
        "        '''\n",
        "        x = self.activ(self.bn0(self.conv0(src)))\n",
        "        x = self.pool1(self.activ(self.bn1(self.conv1(x))))\n",
        "        x = self.activ(self.bn2(self.conv2(x)))\n",
        "        x = self.pool3(self.activ(self.bn3(self.conv3(x))))\n",
        "        x = self.activ(self.bn4(self.conv4(x)))\n",
        "        x = self.pool5(self.activ(self.bn5(self.conv5(x))))\n",
        "        x = self.activ(self.bn6(self.conv6(x)))\n",
        "        x = x.permute(0, 3, 1, 2).flatten(2).permute(1, 0, 2)\n",
        "        return x\n",
        "\n",
        "    def predict(self, batch):\n",
        "        '''\n",
        "        params\n",
        "        ---\n",
        "        batch : Tensor [64, 3, 64, 256] : [B,C,H,W]\n",
        "            B - batch, C - channel, H - height, W - width\n",
        "        \n",
        "        returns\n",
        "        ---\n",
        "        result : List [64, -1] : [B, -1]\n",
        "            preticted sequences of tokens' indexes\n",
        "        '''\n",
        "        result = []\n",
        "        for item in batch:\n",
        "          x = self._get_features(item.unsqueeze(0))\n",
        "          memory = self.transformer.encoder(self.pos_encoder(x))\n",
        "          out_indexes = [ALPHABET.index('SOS'), ]\n",
        "          for i in range(100):\n",
        "              trg_tensor = torch.LongTensor(out_indexes).unsqueeze(1).to(DEVICE)\n",
        "              output = self.fc_out(self.transformer.decoder(self.pos_decoder(self.decoder(trg_tensor)), memory))\n",
        "\n",
        "              out_token = output.argmax(2)[-1].item()\n",
        "              out_indexes.append(out_token)\n",
        "              if out_token == ALPHABET.index('EOS'):\n",
        "                  break\n",
        "          result.append(out_indexes)\n",
        "        return result\n",
        "\n",
        "    def forward(self, src, trg):\n",
        "        '''\n",
        "        params\n",
        "        ---\n",
        "        src : Tensor [64, 3, 64, 256] : [B,C,H,W]\n",
        "            B - batch, C - channel, H - height, W - width\n",
        "        trg : Tensor [13, 64] : [L,B]\n",
        "            L - max length of label\n",
        "        '''\n",
        "        if self.trg_mask is None or self.trg_mask.size(0) != len(trg):\n",
        "            self.trg_mask = self.generate_square_subsequent_mask(len(trg)).to(trg.device) \n",
        "\n",
        "        x = self._get_features(src)\n",
        "        src_pad_mask = self.make_len_mask(x[:, :, 0])\n",
        "        src = self.pos_encoder(x)\n",
        "        trg_pad_mask = self.make_len_mask(trg)\n",
        "        trg = self.decoder(trg)\n",
        "        trg = self.pos_decoder(trg)\n",
        "\n",
        "        output = self.transformer(src, trg, src_mask=self.src_mask, tgt_mask=self.trg_mask,\n",
        "                                  memory_mask=self.memory_mask,\n",
        "                                  src_key_padding_mask=src_pad_mask, tgt_key_padding_mask=trg_pad_mask,\n",
        "                                  memory_key_padding_mask=src_pad_mask)\n",
        "        output = self.fc_out(output)\n",
        "\n",
        "        return output"
      ],
      "metadata": {
        "id": "XXv9XN2Cwbs2"
      },
      "execution_count": 16,
      "outputs": []
    },
    {
      "cell_type": "code",
      "source": [
        "from tqdm import tqdm"
      ],
      "metadata": {
        "id": "FD3hmmeQ_e9Z"
      },
      "execution_count": 17,
      "outputs": []
    },
    {
      "cell_type": "code",
      "source": [
        "def train(model, optimizer, criterion, train_loader):\n",
        "    \"\"\"\n",
        "    params\n",
        "    ---\n",
        "    model : nn.Module\n",
        "    optimizer : nn.Object\n",
        "    criterion : nn.Object\n",
        "    train_loader : torch.utils.data.DataLoader\n",
        "    returns\n",
        "    ---\n",
        "    epoch_loss / len(train_loader) : float\n",
        "        overall loss\n",
        "    \"\"\"\n",
        "    model.train()\n",
        "    epoch_loss = 0\n",
        "    for src, trg in tqdm(train_loader):\n",
        "        src, trg = src.to(DEVICE), trg.to(DEVICE)\n",
        "        optimizer.zero_grad()\n",
        "        output = model(src, trg[:-1, :])\n",
        "\n",
        "        loss = criterion(output.view(-1, output.shape[-1]), torch.reshape(trg[1:, :], (-1,)))\n",
        "        loss.backward()\n",
        "        optimizer.step()\n",
        "        epoch_loss += loss.item()\n",
        "\n",
        "    return epoch_loss / len(train_loader)\n",
        "\n",
        "\n",
        "# GENERAL FUNCTION FROM TRAINING AND VALIDATION\n",
        "def fit(model, optimizer, scheduler, criterion, train_loader, val_loader, start_epoch=0, end_epoch=24):\n",
        "    metrics = []\n",
        "    for epoch in range(start_epoch, end_epoch):\n",
        "        epoch_metrics = {}\n",
        "        start_time = time()\n",
        "        train_loss = train(model, optimizer, criterion, train_loader)\n",
        "        print('train_loss on epoch {}'.format(train_loss))\n",
        "        end_time = time()\n",
        "        epoch_metrics, _ = evaluate(model, criterion, val_loader)\n",
        "        epoch_metrics['train_loss'] = train_loss\n",
        "        epoch_metrics['epoch'] = epoch\n",
        "        epoch_metrics['time'] = end_time - start_time\n",
        "        epoch_metrics['lr'] = optimizer.param_groups[0][\"lr\"]\n",
        "        metrics.append(epoch_metrics)\n",
        "        log_metrics(epoch_metrics, TRAIN_LOG)\n",
        "        if scheduler != None:\n",
        "            scheduler.step(epoch_metrics['loss'])\n",
        "    print( metrics)        \n",
        "    return metrics"
      ],
      "metadata": {
        "id": "zlLMT5NiwgNV"
      },
      "execution_count": null,
      "outputs": []
    },
    {
      "cell_type": "code",
      "source": [
        "random.seed(RANDOM_SEED)\n",
        "torch.manual_seed(RANDOM_SEED)\n",
        "torch.cuda.manual_seed(RANDOM_SEED)\n",
        "\n",
        "char2idx = {char: idx for idx, char in enumerate(ALPHABET)}\n",
        "idx2char = {idx: char for idx, char in enumerate(ALPHABET)}\n",
        "\n",
        "#print(f\"loading dataset {PATH_TRAIN_DIR} ...\")\n",
        "#img2label, _, all_words = process_data(PATH_TRAIN_DIR, PATH_TRAIN_LABELS) \n",
        "#img_names, labels = list(img2label.keys()), list(img2label.values())\n",
        "#X_train = generate_data(img_names)\n",
        "#y_train = labels\n",
        "\n",
        "#train_dataset = TextLoader(X_train, y_train, TRAIN_TRANSFORMS, char2idx, idx2char)\n",
        "#train_loader = torch.utils.data.DataLoader(train_dataset, shuffle=True,\n",
        "#                                           batch_size=BATCH_SIZE, pin_memory=True,\n",
        "#                                           drop_last=True, collate_fn=TextCollate())\n",
        "\n",
        "print(f\"loading dataset {PATH_TEST_DIR} ...\")\n",
        "img2label, _, all_words = process_data(PATH_TEST_DIR, PATH_TEST_LABELS) \n",
        "img_names, labels = list(img2label.keys()), list(img2label.values())\n",
        "X_test = generate_data(img_names)\n",
        "y_test = labels\n",
        "\n",
        "test_dataset = TextLoader(X_test, y_test, TEST_TRANSFORMS, char2idx ,idx2char)\n",
        "test_loader = torch.utils.data.DataLoader(test_dataset, shuffle=True,\n",
        "                                           batch_size=BATCH_SIZE, pin_memory=True,\n",
        "                                           drop_last=True, collate_fn=TextCollate())\n",
        "\n",
        "#print(\"TRAIN DATASET:\")\n",
        "#train_dataset.get_info()\n",
        "print(\"\\nTEST DATASET:\")\n",
        "test_dataset.get_info()"
      ],
      "metadata": {
        "colab": {
          "base_uri": "https://localhost:8080/"
        },
        "id": "GisBTH0QwgKF",
        "outputId": "8f8e931f-0c85-4a1f-e21d-32a723484061"
      },
      "execution_count": 18,
      "outputs": [
        {
          "output_type": "stream",
          "name": "stdout",
          "text": [
            "loading dataset /content/test/ ...\n"
          ]
        },
        {
          "output_type": "stream",
          "name": "stderr",
          "text": [
            "100%|██████████| 1544/1544 [00:02<00:00, 681.56it/s]"
          ]
        },
        {
          "output_type": "stream",
          "name": "stdout",
          "text": [
            "\n",
            "TEST DATASET:\n",
            "Size of dataset: 1544\n",
            "Max length of expression: 22\n",
            "The most common char: ('о', 1321)\n",
            "The least common char: ('Й', 1)\n"
          ]
        },
        {
          "output_type": "stream",
          "name": "stderr",
          "text": [
            "\n"
          ]
        }
      ]
    },
    {
      "cell_type": "code",
      "source": [
        "# load weights\n",
        "model = TransformerModel(len(ALPHABET), hidden=HIDDEN, enc_layers=ENC_LAYERS, dec_layers=DEC_LAYERS,   \n",
        "                          nhead=N_HEADS, dropout=DROPOUT).to(DEVICE)\n",
        "model.load_state_dict(torch.load(WEIGHTS_PATH))"
      ],
      "metadata": {
        "colab": {
          "base_uri": "https://localhost:8080/"
        },
        "id": "HS66sXqFgc-0",
        "outputId": "cd4ec3bb-4277-4714-aaee-17828613efe9"
      },
      "execution_count": 20,
      "outputs": [
        {
          "output_type": "stream",
          "name": "stdout",
          "text": [
            "transformer layers: 2\n",
            "transformer heads: 4\n",
            "hidden dim: 512\n",
            "num classes: 92\n",
            "backbone: conv(64)->conv(64)->conv(128)->conv(256)->conv(256)->conv(512)->conv(512)\n",
            "dropout: 0.2\n",
            "19,838,174 trainable parameters\n"
          ]
        },
        {
          "output_type": "execute_result",
          "data": {
            "text/plain": [
              "<All keys matched successfully>"
            ]
          },
          "metadata": {},
          "execution_count": 20
        }
      ]
    },
    {
      "cell_type": "code",
      "source": [
        "model.fc_out = nn.Identity()"
      ],
      "metadata": {
        "id": "SLJcqVe0q52y"
      },
      "execution_count": 44,
      "outputs": []
    },
    {
      "cell_type": "code",
      "source": [
        "logits = model(src, trg[:-1, :])"
      ],
      "metadata": {
        "id": "TfWwhTMbtWqi"
      },
      "execution_count": 45,
      "outputs": []
    },
    {
      "cell_type": "code",
      "source": [],
      "metadata": {
        "id": "d_GWi2eu219e"
      },
      "execution_count": null,
      "outputs": []
    },
    {
      "cell_type": "code",
      "source": [],
      "metadata": {
        "id": "4DFQMJ0fuuZ2"
      },
      "execution_count": null,
      "outputs": []
    },
    {
      "cell_type": "code",
      "source": [],
      "metadata": {
        "id": "sb1ch2Wjp6au"
      },
      "execution_count": null,
      "outputs": []
    },
    {
      "cell_type": "code",
      "source": [
        "# load weights\n",
        "model = TransformerModel(len(ALPHABET), hidden=HIDDEN, enc_layers=ENC_LAYERS, dec_layers=DEC_LAYERS,   \n",
        "                          nhead=N_HEADS, dropout=DROPOUT).to(DEVICE)\n",
        "model.load_state_dict(torch.load(WEIGHTS_PATH))\n",
        "\n",
        "# evaluate\n",
        "criterion = torch.nn.CrossEntropyLoss(ignore_index=char2idx['PAD'])\n",
        "metrics, result = evaluate(model, criterion, test_loader, case=CASE, punct=PUNCT)\n",
        "\n",
        "if PATH_TEST_RESULTS != None:\n",
        "    f = open(PATH_TEST_RESULTS, 'w')\n",
        "    f.write(\"true\\tpredicted\\twer\\n\")\n",
        "    for i in range(len(result['true'])): \n",
        "        f.write(result['true'][i]+\\\n",
        "            '\\t'+result['predicted'][i]+\\\n",
        "            '\\t'+str(result['wer'][i])+'\\n')\n",
        "print(f'PUNCT: {PUNCT}, CASE: {CASE}')\n",
        "print(metrics)"
      ],
      "metadata": {
        "colab": {
          "base_uri": "https://localhost:8080/"
        },
        "id": "i4peGdyCLcoj",
        "outputId": "44b063ce-6c32-4e26-baa9-2d0ffd56d125"
      },
      "execution_count": null,
      "outputs": [
        {
          "output_type": "stream",
          "name": "stdout",
          "text": [
            "transformer layers: 2\n",
            "transformer heads: 4\n",
            "hidden dim: 512\n",
            "num classes: 92\n",
            "backbone: conv(64)->conv(64)->conv(128)->conv(256)->conv(256)->conv(512)->conv(512)\n",
            "dropout: 0.2\n",
            "19,838,174 trainable parameters\n",
            "PUNCT: False, CASE: False\n",
            "{'loss': 0.48482032911852, 'wer': 0.6080729166666666, 'cer': 0.17261116087244177}\n"
          ]
        }
      ]
    },
    {
      "cell_type": "code",
      "source": [
        "def get_accuracy(y_true, y_pred):\n",
        "    \"\"\"Calc accuracy between two list of strings.\"\"\"\n",
        "    scores = []\n",
        "    for true, pred in zip(y_true, y_pred):\n",
        "        scores.append(true == pred)\n",
        "    avg_score = np.mean(scores)\n",
        "    return avg_score"
      ],
      "metadata": {
        "id": "QMfQ_x580Q07"
      },
      "execution_count": null,
      "outputs": []
    },
    {
      "cell_type": "code",
      "source": [
        "# read predictions and show it\n",
        "df = pd.read_csv(PATH_TEST_RESULTS, sep='\\t', quoting=3)\n",
        "df.head(10)"
      ],
      "metadata": {
        "colab": {
          "base_uri": "https://localhost:8080/",
          "height": 352
        },
        "id": "V_UEcWOeRiL8",
        "outputId": "4703b9ad-2e0a-433c-9842-1478b6338e9b"
      },
      "execution_count": null,
      "outputs": [
        {
          "output_type": "execute_result",
          "data": {
            "text/plain": [
              "                true         predicted       wer\n",
              "0         разностная        разностная  0.000000\n",
              "1  стипендию получаю  тинендию полугию  0.235294\n",
              "2          05041999г         об041999г  0.222222\n",
              "3              схема         свкой гбо  0.888889\n",
              "4     объяснительная    объяснительная  0.000000\n",
              "5          адвокатов         адвошатов  0.111111\n",
              "6     санктпетербург   сошкибениертуры  0.533333\n",
              "7              метод             метод  0.000000\n",
              "8      одиннадцатого      единадцатого  0.153846\n",
              "9            тензора           теизора  0.142857"
            ],
            "text/html": [
              "\n",
              "  <div id=\"df-a63a9c3f-2714-4164-880a-e39acd3f9992\">\n",
              "    <div class=\"colab-df-container\">\n",
              "      <div>\n",
              "<style scoped>\n",
              "    .dataframe tbody tr th:only-of-type {\n",
              "        vertical-align: middle;\n",
              "    }\n",
              "\n",
              "    .dataframe tbody tr th {\n",
              "        vertical-align: top;\n",
              "    }\n",
              "\n",
              "    .dataframe thead th {\n",
              "        text-align: right;\n",
              "    }\n",
              "</style>\n",
              "<table border=\"1\" class=\"dataframe\">\n",
              "  <thead>\n",
              "    <tr style=\"text-align: right;\">\n",
              "      <th></th>\n",
              "      <th>true</th>\n",
              "      <th>predicted</th>\n",
              "      <th>wer</th>\n",
              "    </tr>\n",
              "  </thead>\n",
              "  <tbody>\n",
              "    <tr>\n",
              "      <th>0</th>\n",
              "      <td>разностная</td>\n",
              "      <td>разностная</td>\n",
              "      <td>0.000000</td>\n",
              "    </tr>\n",
              "    <tr>\n",
              "      <th>1</th>\n",
              "      <td>стипендию получаю</td>\n",
              "      <td>тинендию полугию</td>\n",
              "      <td>0.235294</td>\n",
              "    </tr>\n",
              "    <tr>\n",
              "      <th>2</th>\n",
              "      <td>05041999г</td>\n",
              "      <td>об041999г</td>\n",
              "      <td>0.222222</td>\n",
              "    </tr>\n",
              "    <tr>\n",
              "      <th>3</th>\n",
              "      <td>схема</td>\n",
              "      <td>свкой гбо</td>\n",
              "      <td>0.888889</td>\n",
              "    </tr>\n",
              "    <tr>\n",
              "      <th>4</th>\n",
              "      <td>объяснительная</td>\n",
              "      <td>объяснительная</td>\n",
              "      <td>0.000000</td>\n",
              "    </tr>\n",
              "    <tr>\n",
              "      <th>5</th>\n",
              "      <td>адвокатов</td>\n",
              "      <td>адвошатов</td>\n",
              "      <td>0.111111</td>\n",
              "    </tr>\n",
              "    <tr>\n",
              "      <th>6</th>\n",
              "      <td>санктпетербург</td>\n",
              "      <td>сошкибениертуры</td>\n",
              "      <td>0.533333</td>\n",
              "    </tr>\n",
              "    <tr>\n",
              "      <th>7</th>\n",
              "      <td>метод</td>\n",
              "      <td>метод</td>\n",
              "      <td>0.000000</td>\n",
              "    </tr>\n",
              "    <tr>\n",
              "      <th>8</th>\n",
              "      <td>одиннадцатого</td>\n",
              "      <td>единадцатого</td>\n",
              "      <td>0.153846</td>\n",
              "    </tr>\n",
              "    <tr>\n",
              "      <th>9</th>\n",
              "      <td>тензора</td>\n",
              "      <td>теизора</td>\n",
              "      <td>0.142857</td>\n",
              "    </tr>\n",
              "  </tbody>\n",
              "</table>\n",
              "</div>\n",
              "      <button class=\"colab-df-convert\" onclick=\"convertToInteractive('df-a63a9c3f-2714-4164-880a-e39acd3f9992')\"\n",
              "              title=\"Convert this dataframe to an interactive table.\"\n",
              "              style=\"display:none;\">\n",
              "        \n",
              "  <svg xmlns=\"http://www.w3.org/2000/svg\" height=\"24px\"viewBox=\"0 0 24 24\"\n",
              "       width=\"24px\">\n",
              "    <path d=\"M0 0h24v24H0V0z\" fill=\"none\"/>\n",
              "    <path d=\"M18.56 5.44l.94 2.06.94-2.06 2.06-.94-2.06-.94-.94-2.06-.94 2.06-2.06.94zm-11 1L8.5 8.5l.94-2.06 2.06-.94-2.06-.94L8.5 2.5l-.94 2.06-2.06.94zm10 10l.94 2.06.94-2.06 2.06-.94-2.06-.94-.94-2.06-.94 2.06-2.06.94z\"/><path d=\"M17.41 7.96l-1.37-1.37c-.4-.4-.92-.59-1.43-.59-.52 0-1.04.2-1.43.59L10.3 9.45l-7.72 7.72c-.78.78-.78 2.05 0 2.83L4 21.41c.39.39.9.59 1.41.59.51 0 1.02-.2 1.41-.59l7.78-7.78 2.81-2.81c.8-.78.8-2.07 0-2.86zM5.41 20L4 18.59l7.72-7.72 1.47 1.35L5.41 20z\"/>\n",
              "  </svg>\n",
              "      </button>\n",
              "      \n",
              "  <style>\n",
              "    .colab-df-container {\n",
              "      display:flex;\n",
              "      flex-wrap:wrap;\n",
              "      gap: 12px;\n",
              "    }\n",
              "\n",
              "    .colab-df-convert {\n",
              "      background-color: #E8F0FE;\n",
              "      border: none;\n",
              "      border-radius: 50%;\n",
              "      cursor: pointer;\n",
              "      display: none;\n",
              "      fill: #1967D2;\n",
              "      height: 32px;\n",
              "      padding: 0 0 0 0;\n",
              "      width: 32px;\n",
              "    }\n",
              "\n",
              "    .colab-df-convert:hover {\n",
              "      background-color: #E2EBFA;\n",
              "      box-shadow: 0px 1px 2px rgba(60, 64, 67, 0.3), 0px 1px 3px 1px rgba(60, 64, 67, 0.15);\n",
              "      fill: #174EA6;\n",
              "    }\n",
              "\n",
              "    [theme=dark] .colab-df-convert {\n",
              "      background-color: #3B4455;\n",
              "      fill: #D2E3FC;\n",
              "    }\n",
              "\n",
              "    [theme=dark] .colab-df-convert:hover {\n",
              "      background-color: #434B5C;\n",
              "      box-shadow: 0px 1px 3px 1px rgba(0, 0, 0, 0.15);\n",
              "      filter: drop-shadow(0px 1px 2px rgba(0, 0, 0, 0.3));\n",
              "      fill: #FFFFFF;\n",
              "    }\n",
              "  </style>\n",
              "\n",
              "      <script>\n",
              "        const buttonEl =\n",
              "          document.querySelector('#df-a63a9c3f-2714-4164-880a-e39acd3f9992 button.colab-df-convert');\n",
              "        buttonEl.style.display =\n",
              "          google.colab.kernel.accessAllowed ? 'block' : 'none';\n",
              "\n",
              "        async function convertToInteractive(key) {\n",
              "          const element = document.querySelector('#df-a63a9c3f-2714-4164-880a-e39acd3f9992');\n",
              "          const dataTable =\n",
              "            await google.colab.kernel.invokeFunction('convertToInteractive',\n",
              "                                                     [key], {});\n",
              "          if (!dataTable) return;\n",
              "\n",
              "          const docLinkHtml = 'Like what you see? Visit the ' +\n",
              "            '<a target=\"_blank\" href=https://colab.research.google.com/notebooks/data_table.ipynb>data table notebook</a>'\n",
              "            + ' to learn more about interactive tables.';\n",
              "          element.innerHTML = '';\n",
              "          dataTable['output_type'] = 'display_data';\n",
              "          await google.colab.output.renderOutput(dataTable, element);\n",
              "          const docLink = document.createElement('div');\n",
              "          docLink.innerHTML = docLinkHtml;\n",
              "          element.appendChild(docLink);\n",
              "        }\n",
              "      </script>\n",
              "    </div>\n",
              "  </div>\n",
              "  "
            ]
          },
          "metadata": {},
          "execution_count": 21
        }
      ]
    },
    {
      "cell_type": "code",
      "source": [
        "preds = prediction(model, PREDICT_PATH, char2idx, idx2char)\n",
        "\n",
        "f = open(DIR+'/predictions.tsv', 'w')\n",
        "f.write('filename\\tprediction\\n')\n",
        "for item in preds.items():\n",
        "    f.write(item[0]+'\\t'+item[1]+'\\n')\n",
        "f.close()\n",
        "print(f'predictions are saved in {DIR}predictions.tsv')"
      ],
      "metadata": {
        "colab": {
          "base_uri": "https://localhost:8080/"
        },
        "id": "SLDKAN8MS_Je",
        "outputId": "f238439b-becf-4e71-ac90-1152115b3611"
      },
      "execution_count": null,
      "outputs": [
        {
          "output_type": "stream",
          "name": "stdout",
          "text": [
            "predictions are saved in ./predictions.tsv\n"
          ]
        }
      ]
    },
    {
      "cell_type": "code",
      "source": [
        "df = pd.read_csv(DIR+'/predictions.tsv', sep='\\t', quoting=3)\n",
        "N = 9\n",
        "images = []\n",
        "labels = []\n",
        "for i in range(N):\n",
        "    idx = random.randint(0, len(df))\n",
        "    image_path = PATH_TEST_DIR + df.iloc[idx]['filename']\n",
        "    predicted_label = df.iloc[idx]['prediction']\n",
        "\n",
        "    images.append(Image.open(image_path))\n",
        "    labels.append(predicted_label)\n",
        "\n",
        "show_img_grid(images, labels, N)"
      ],
      "metadata": {
        "colab": {
          "base_uri": "https://localhost:8080/",
          "height": 516
        },
        "id": "B10VDkA6S_GT",
        "outputId": "139a4f1d-1952-439f-a52f-70ab91223a1f"
      },
      "execution_count": null,
      "outputs": [
        {
          "output_type": "display_data",
          "data": {
            "text/plain": [
              "<Figure size 720x720 with 9 Axes>"
            ],
            "image/png": "[encoded data removed]"
          },
          "metadata": {
            "needs_background": "light"
          }
        }
      ]
    },
    {
      "cell_type": "code",
      "source": [],
      "metadata": {
        "id": "ob0RNAC4TVlG"
      },
      "execution_count": null,
      "outputs": []
    },
    {
      "cell_type": "code",
      "source": [],
      "metadata": {
        "id": "qaUB51_xTVgI"
      },
      "execution_count": null,
      "outputs": []
    },
    {
      "cell_type": "code",
      "source": [],
      "metadata": {
        "id": "CISI4VE3S_Bd"
      },
      "execution_count": null,
      "outputs": []
    },
    {
      "cell_type": "code",
      "source": [],
      "metadata": {
        "id": "VHvwqIBdRiHi"
      },
      "execution_count": null,
      "outputs": []
    },
    {
      "cell_type": "code",
      "source": [
        "model = TransformerModel(len(ALPHABET), hidden=HIDDEN, enc_layers=ENC_LAYERS, dec_layers=DEC_LAYERS,   \n",
        "                          nhead=N_HEADS, dropout=DROPOUT)\n",
        "model.load_state_dict(torch.load('/content/checkpoint_71_real-part3.pt'))\n",
        "model.to(DEVICE)"
      ],
      "metadata": {
        "id": "4mQ1RHSQwkvS"
      },
      "execution_count": null,
      "outputs": []
    },
    {
      "cell_type": "code",
      "source": [],
      "metadata": {
        "id": "qvzOV2IHZETV"
      },
      "execution_count": null,
      "outputs": []
    },
    {
      "cell_type": "code",
      "source": [
        "DIR = './' # work directory\n",
        "PATH_TEST_DIR = '/content/test/'\n",
        "PATH_TEST_LABELS =  '/content/test.tsv'\n",
        "PATH_TRAIN_DIR =  '/content/train/'\n",
        "PATH_TRAIN_LABELS =  '/content/train.tsv'\n",
        "PREDICT_PATH = \"/content/test/\"\n",
        "CHECKPOINT_PATH = DIR\n",
        "WEIGHTS_PATH =  \"/content/checkpoint_71_real-part3.pt\"\n",
        "#\"../input/simple-and-efficient-transformer-ocr-weights/ocr_transformer_4h2l_simple_conv_64x256.pt\"\n",
        "PATH_TEST_RESULTS = DIR+'/test_result.tsv'\n",
        "TRAIN_LOG = DIR+'train_log.tsv'"
      ],
      "metadata": {
        "colab": {
          "base_uri": "https://localhost:8080/"
        },
        "id": "1T713W4FT0c0",
        "outputId": "0003c33c-f1b3-428e-9d08-ecace41a6c41"
      },
      "execution_count": null,
      "outputs": [
        {
          "output_type": "execute_result",
          "data": {
            "text/plain": [
              "128"
            ]
          },
          "metadata": {},
          "execution_count": 18
        }
      ]
    },
    {
      "cell_type": "code",
      "source": [
        "#model = TransformerModel(len(ALPHABET), hidden=HIDDEN, enc_layers=ENC_LAYERS, dec_layers=DEC_LAYERS,   \n",
        "#                          nhead=N_HEADS, dropout=DROPOUT).to(DEVICE)\n",
        "\n",
        "criterion = torch.nn.CrossEntropyLoss(ignore_index=char2idx['PAD'])\n",
        "optimizer = torch.optim.__getattribute__(OPTIMIZER_NAME)(model.parameters(), lr=LR)\n",
        "\n",
        "if SCHUDULER_ON:\n",
        "    scheduler =torch.optim.lr_scheduler.ReduceLROnPlateau(optimizer, patience=PATIENCE)\n",
        "else:\n",
        "    scheduler = None\n",
        "\n",
        "print(f'checkpoints are saved in {CHECKPOINT_PATH} every {CHECKPOINT_FREQ} epochs')\n",
        "for epoch in range(1, N_EPOCHS, CHECKPOINT_FREQ):\n",
        "    fit(model, optimizer, scheduler, criterion, train_loader, test_loader, epoch, epoch+CHECKPOINT_FREQ)\n",
        "    torch.save(model.state_dict(), CHECKPOINT_PATH+'checkpoint_{}.pt'.format(epoch+CHECKPOINT_FREQ))"
      ],
      "metadata": {
        "id": "DR99oGJ2wkr3"
      },
      "execution_count": null,
      "outputs": []
    },
    {
      "cell_type": "code",
      "source": [],
      "metadata": {
        "id": "4_a6Q6x1wbpv"
      },
      "execution_count": null,
      "outputs": []
    },
    {
      "cell_type": "code",
      "source": [
        "!unzip -n /content/scrab-sint.zip"
      ],
      "metadata": {
        "colab": {
          "base_uri": "https://localhost:8080/"
        },
        "id": "_t-6x9SVC-gm",
        "outputId": "1e0128b4-0aa2-448c-a3b9-50d6e7c58443"
      },
      "execution_count": null,
      "outputs": [
        {
          "output_type": "stream",
          "name": "stdout",
          "text": [
            "unzip:  cannot find or open /content/scrab-sint.zip, /content/scrab-sint.zip.zip or /content/scrab-sint.zip.ZIP.\n"
          ]
        }
      ]
    },
    {
      "cell_type": "code",
      "source": [
        "!unzip -n /content/sint-scrab.zip"
      ],
      "metadata": {
        "colab": {
          "base_uri": "https://localhost:8080/"
        },
        "id": "EXiwtnw_C-b7",
        "outputId": "402db6a6-ae3a-4c3d-8297-e7a3afb31c12"
      },
      "execution_count": null,
      "outputs": [
        {
          "output_type": "stream",
          "name": "stdout",
          "text": [
            "Archive:  /content/sint-scrab.zip\n",
            "  End-of-central-directory signature not found.  Either this file is not\n",
            "  a zipfile, or it constitutes one disk of a multi-part archive.  In the\n",
            "  latter case the central directory and zipfile comment will be found on\n",
            "  the last disk(s) of this archive.\n",
            "unzip:  cannot find zipfile directory in one of /content/sint-scrab.zip or\n",
            "        /content/sint-scrab.zip.zip, and cannot find /content/sint-scrab.zip.ZIP, period.\n"
          ]
        }
      ]
    },
    {
      "cell_type": "code",
      "source": [
        "#!unzip -n /content/генерация_рукописного.zip"
      ],
      "metadata": {
        "id": "ZNPcNCvsyVCB"
      },
      "execution_count": null,
      "outputs": []
    },
    {
      "cell_type": "code",
      "source": [],
      "metadata": {
        "id": "EeICfJc6GLv3"
      },
      "execution_count": null,
      "outputs": []
    },
    {
      "cell_type": "code",
      "source": [
        "chars = []\n",
        "img2label = dict()\n",
        "\n",
        "df = pd.read_csv('/content/генерация рукописного/training.tsv', sep='\\t', names=['file', 'text'])\n",
        "df.loc[~df.text.isna(), 'text'] = df.loc[~df.text.isna(), 'text'].apply(lambda x: x.replace(\" \", \"\"))\n",
        "for z in zip(list(df.file.values),\n",
        "          list(df.text.values)):\n",
        "    try:\n",
        "        x = list(z)\n",
        "        if type(x[1]) == float:\n",
        "            continue\n",
        "        flag = False\n",
        "        if flag == False:\n",
        "            img2label['/content/генерация рукописного/cyr_train/' + x[0]] = x[1]\n",
        "            for char in x[1]:\n",
        "                if char not in chars:\n",
        "                    chars.append(char)\n",
        "    except:\n",
        "        print('ValueError:', x)\n",
        "        pass"
      ],
      "metadata": {
        "id": "gwDjwA00FzUl"
      },
      "execution_count": null,
      "outputs": []
    },
    {
      "cell_type": "code",
      "source": [
        "img_names = list(img2label.keys())"
      ],
      "metadata": {
        "id": "iDWxyNExHCYe"
      },
      "execution_count": null,
      "outputs": []
    },
    {
      "cell_type": "code",
      "source": [
        "import numpy as np\n",
        "from PIL import Image\n",
        "import os"
      ],
      "metadata": {
        "id": "itca0arSHsuB"
      },
      "execution_count": null,
      "outputs": []
    },
    {
      "cell_type": "code",
      "source": [
        "data_images = []\n",
        "for path in tqdm(img_paths):\n",
        "    if path[-3:] == 'png':\n",
        "        img = np.asarray(Image.open(path).convert('RGB'))\n",
        "        try:\n",
        "            img = process_image(img)\n",
        "            data_images.append(img.astype('uint8'))\n",
        "        except:\n",
        "            print(path)\n",
        "            img = process_image(img)\n",
        "return data_images"
      ],
      "metadata": {
        "id": "AW0OptQ0BiGH"
      },
      "execution_count": null,
      "outputs": []
    },
    {
      "cell_type": "code",
      "source": [
        "pd.read_csv('/content/генерация рукописного/training.tsv', sep='\\t', names=['file', 'text']).file"
      ],
      "metadata": {
        "id": "kuwnaF3P6OY3"
      },
      "execution_count": null,
      "outputs": []
    }
  ]
}